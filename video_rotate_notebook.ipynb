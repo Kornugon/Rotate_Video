{
 "cells": [
  {
   "cell_type": "markdown",
   "metadata": {},
   "source": [
    "# Import dependencies"
   ]
  },
  {
   "cell_type": "code",
   "execution_count": 1,
   "metadata": {},
   "outputs": [],
   "source": [
    "import os\n",
    "from os.path import exists\n",
    "\n",
    "import moviepy.editor as mp  # moviepy 1.0.3"
   ]
  },
  {
   "cell_type": "code",
   "execution_count": 2,
   "metadata": {},
   "outputs": [],
   "source": [
    "welcome_info_txt = \"\"\"\n",
    "The script has to be located in the same localization as videos source folder. \n",
    "User will be asked to provide the name of the source folder. \n",
    "Next user has to provide information about rotation angle, for all the videos in the source folder.\n",
    "Rotated videos will be saved as new video in the output folder.\n",
    "Output folder \"Result\" will be created automatically (if it is not existing), in the same location as script.\n",
    "Available formats are (mp4, avi, ogv, webm).\n",
    "\"Rotation\" by 0 degree is basically to slightly decrease quality of a video.\n",
    "Note that in the source folder should be only videos for rotation. Also video name should be without any dots.\n",
    "The script may not work on Windows 7 and older.\n",
    "\"\"\""
   ]
  },
  {
   "cell_type": "markdown",
   "metadata": {},
   "source": [
    "# Functions definition"
   ]
  },
  {
   "cell_type": "code",
   "execution_count": 3,
   "metadata": {},
   "outputs": [],
   "source": [
    "def user_input_folder_name():\n",
    "    # User input folder name.\n",
    "    folder_name = input(\"Please enter name of source folder file.\\n\")\n",
    "\n",
    "    if not exists(folder_name):\n",
    "        print(f'{folder_name} folder does not exist in script location.\\nRun script again.\\n')\n",
    "    else:\n",
    "        folder_name = folder_name + '/'\n",
    "    \n",
    "    return folder_name"
   ]
  },
  {
   "cell_type": "code",
   "execution_count": 4,
   "metadata": {},
   "outputs": [],
   "source": [
    "def user_input_angle_value():\n",
    "    # User input angle.\n",
    "    value = input(\"Please enter a rotation angle.\\nOptions are: 0, 90, 180, 270 and -90, -180, -270.\\n\")\n",
    "\n",
    "    if int(value) in (0, 90, 180, 270, -90, -180, -270):\n",
    "        print(f'You entered {value} deg angle.')\n",
    "    else:\n",
    "        value = input(f'You entered {value}.\\nWrong angle.\\nTry again: \\n')\n",
    "\n",
    "    value = int(value)\n",
    "\n",
    "    return value"
   ]
  },
  {
   "cell_type": "code",
   "execution_count": 5,
   "metadata": {},
   "outputs": [],
   "source": [
    "def rotate_vid(folder_name, value):\n",
    "    i = 1\n",
    "    for file in os.listdir(folder_name):\n",
    "        print(f'\\nProcessing file number {i}.\\n')\n",
    "        \n",
    "        # Split file name to name and file format.\n",
    "        f_name, form = file.split('.')\n",
    "\n",
    "        # choose format of the file (codec) based of original file.\n",
    "        if form == ('mp4'):\n",
    "            codec = 'libx264'\n",
    "        elif form == ('avi'):\n",
    "            codec = 'png'\n",
    "        elif form == ('ogv'):\n",
    "            codec = 'libvorbis'\n",
    "        elif form == ('webm'):\n",
    "            codec = 'libvpx'\n",
    "\n",
    "        # Load the file and assign original fps rate to variable.\n",
    "        clip = mp.VideoFileClip(folder_name + file)\n",
    "        fps = clip.fps\n",
    "\n",
    "        # Check if video is in portrait mode.\n",
    "        if clip.rotation == 90:\n",
    "            # Switch dimensions from h, w to w, h.\n",
    "            clip = clip.resize(clip.size[::-1])\n",
    "            clip.rotation = 0\n",
    "    \n",
    "        # Rotate based on user input.\n",
    "        if value == 90:\n",
    "            rotated_clip = clip.rotate(90)\n",
    "        elif value == 180:\n",
    "            rotated_clip = clip.rotate(180)\n",
    "        elif value == 270:\n",
    "            rotated_clip = clip.rotate(270)\n",
    "        elif value == -90:\n",
    "            rotated_clip = clip.rotate(-90)\n",
    "        elif value == -180:\n",
    "            rotated_clip = clip.rotate(-180)\n",
    "        elif value == -270:\n",
    "            rotated_clip = clip.rotate(-270)\n",
    "        elif value == 0:\n",
    "            rotated_clip = clip.rotate(0)\n",
    "        else:\n",
    "            print('Wrong angle again.')\n",
    "            break\n",
    "            \n",
    "        # Format name for resulting file.\n",
    "        if i < 10:\n",
    "            name = 'Result/' + '0' + str(i) + '_' + f_name + '_' + str(value) + 'deg.' + form\n",
    "        else:\n",
    "            name = 'Result/' + str(i) + '_'  + f_name + '_' + str(value) + 'deg.' + form\n",
    "        \n",
    "        # Write rotated file with new name and original fps and sound.\n",
    "        rotated_clip.write_videofile(name, fps=fps, audio=True, verbose=False)\n",
    "        \n",
    "        # Increment loop variable.\n",
    "        i += 1\n",
    "\n",
    "    # Kill moviepy process.\n",
    "    clip.close()\n",
    "    \n",
    "    return print('Process finished.')"
   ]
  },
  {
   "cell_type": "markdown",
   "metadata": {},
   "source": [
    "# Run part."
   ]
  },
  {
   "cell_type": "code",
   "execution_count": 6,
   "metadata": {},
   "outputs": [
    {
     "name": "stdout",
     "output_type": "stream",
     "text": [
      "\n",
      "The script has to be located in the same localization as videos source folder. \n",
      "User will be asked to provide the name of the source folder. \n",
      "Next user has to provide information about rotation angle, for all the videos in the source folder.\n",
      "Rotated videos will be saved as new video in the output folder.\n",
      "Output folder \"Result\" will be created automatically (if it is not existing), in the same location as script.\n",
      "Available formats are (mp4, avi, ogv, webm).\n",
      "\"Rotation\" by 0 degree is basically to slightly decrease quality of a video.\n",
      "Note that in the source folder should be only videos for rotation. Also video name should be without any dots.\n",
      "The script may not work on Windows 7 and older.\n",
      "\n"
     ]
    }
   ],
   "source": [
    "print(welcome_info_txt)"
   ]
  },
  {
   "cell_type": "code",
   "execution_count": 7,
   "metadata": {
    "scrolled": true
   },
   "outputs": [
    {
     "name": "stdout",
     "output_type": "stream",
     "text": [
      "Please enter name of source folder file.\n",
      "Orig1\n"
     ]
    }
   ],
   "source": [
    "folder_name = user_input_folder_name()"
   ]
  },
  {
   "cell_type": "code",
   "execution_count": 8,
   "metadata": {},
   "outputs": [
    {
     "name": "stdout",
     "output_type": "stream",
     "text": [
      "Please enter a rotation angle.\n",
      "Options are: 0, 90, 180, 270 and -90, -180, -270.\n",
      "0\n",
      "You entered 0 deg angle.\n"
     ]
    }
   ],
   "source": [
    "value = user_input_angle_value()"
   ]
  },
  {
   "cell_type": "code",
   "execution_count": 9,
   "metadata": {},
   "outputs": [],
   "source": [
    "# Create new directory for resulting files if it is not already existing.\n",
    "try:\n",
    "    os.mkdir('Result/')\n",
    "except FileExistsError:\n",
    "    print('Existing directory for output files.')"
   ]
  },
  {
   "cell_type": "code",
   "execution_count": 10,
   "metadata": {
    "scrolled": false
   },
   "outputs": [
    {
     "name": "stdout",
     "output_type": "stream",
     "text": [
      "\n",
      "Processing file number 1.\n",
      "\n",
      "Moviepy - Building video Result/01_VID20190806141218_0deg.mp4.\n",
      "MoviePy - Writing audio in 01_VID20190806141218_0degTEMP_MPY_wvf_snd.mp3\n"
     ]
    },
    {
     "name": "stderr",
     "output_type": "stream",
     "text": [
      "                                                                  \r"
     ]
    },
    {
     "name": "stdout",
     "output_type": "stream",
     "text": [
      "MoviePy - Done.\n",
      "Moviepy - Writing video Result/01_VID20190806141218_0deg.mp4\n",
      "\n"
     ]
    },
    {
     "name": "stderr",
     "output_type": "stream",
     "text": [
      "                                                              \r"
     ]
    },
    {
     "name": "stdout",
     "output_type": "stream",
     "text": [
      "Moviepy - Done !\n",
      "Moviepy - video ready Result/01_VID20190806141218_0deg.mp4\n",
      "Process finished.\n"
     ]
    }
   ],
   "source": [
    "rotate_vid(folder_name, value)"
   ]
  },
  {
   "cell_type": "code",
   "execution_count": null,
   "metadata": {},
   "outputs": [],
   "source": []
  }
 ],
 "metadata": {
  "kernelspec": {
   "display_name": "Python 3 (ipykernel)",
   "language": "python",
   "name": "python3"
  },
  "language_info": {
   "codemirror_mode": {
    "name": "ipython",
    "version": 3
   },
   "file_extension": ".py",
   "mimetype": "text/x-python",
   "name": "python",
   "nbconvert_exporter": "python",
   "pygments_lexer": "ipython3",
   "version": "3.9.12"
  }
 },
 "nbformat": 4,
 "nbformat_minor": 4
}
